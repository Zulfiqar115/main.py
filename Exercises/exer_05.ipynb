{
 "cells": [
  {
   "cell_type": "code",
   "execution_count": null,
   "metadata": {},
   "outputs": [],
   "source": [
    "# <!-- #  5-3: Alien Colors #1\n",
    "# magine an alien was just shot down in a game. Create a variable called alien_color \n",
    "# and assign it a value of 'green', 'yellow', or 'red'.\n",
    "# .   Write an if statement to test whether the alien's color is green. If it is, print\n",
    "#     a message that the player just earned 5 points.\n",
    "# .   Write one version of this program that passes the if test and another that fails. \n",
    "#     (The version that fails will have no output.) -->\n",
    "\n",
    "alien_color = 'green'\n",
    "\n",
    "if alien_color == 'green':\n",
    "    print(\"You just earned 5 points!\")\n",
    "\n",
    "    "
   ]
  },
  {
   "cell_type": "code",
   "execution_count": null,
   "metadata": {},
   "outputs": [],
   "source": [
    "# 5-4: Alien Colors #2\n",
    "# Choose a color for an alien as you did in Exercise 5-3, and write an if-else chain.\n",
    "\n",
    "# .   If the alien's color is green, print a statement that the player just earned 5 points for shooting the alien.\n",
    "# .   If the alien's color isn't green, print a statement that the player just earned 10 points.\n",
    "# .   Write one version of this program that runs the if block and another that runs the else block.\n",
    "\n",
    "alien_color = 'green'\n",
    "\n",
    "if alien_color == 'green':\n",
    "    print(\"You just earned 5 points!\")\n",
    "else:\n",
    "    print(\"You just earned 10 points!\")\n"
   ]
  },
  {
   "cell_type": "code",
   "execution_count": null,
   "metadata": {},
   "outputs": [],
   "source": [
    "    #Else block run\n",
    "    alien_color = 'yellow'\n",
    "\n",
    "if alien_color == 'green':\n",
    "        print(\"You just earned 5 points!\")\n",
    "else:\n",
    "         print(\"You just earned 10 points!\")\n"
   ]
  },
  {
   "cell_type": "code",
   "execution_count": null,
   "metadata": {},
   "outputs": [],
   "source": [
    "# 5-5: Alien Colors #3\n",
    "# Turn your if-else chain from Exercise 5-4 into an if-elif-else cahin.\n",
    "\n",
    "# .   If the alien is green, print a message that the player earned 5 points.\n",
    "# .   If the alien is yellow, print a message that the player earned 10 points.\n",
    "# .   If the alien is red, print a message that the player earned 15 points.\n",
    "# .   Write three versions of this program, making sure each message is printed \n",
    "#     for the appropriate color alien.\n",
    "\n",
    "     \n",
    "alien_color = 'red'\n",
    "\n",
    "if   alien_color == 'green':\n",
    "     print(\"You just earned 5 points!\")\n",
    "elif alien_color == 'yellow':\n",
    "     print(\"You just earned 10 points!\")\n",
    "else:\n",
    "     print(\"You just earned 15 points!\")\n"
   ]
  },
  {
   "cell_type": "code",
   "execution_count": null,
   "metadata": {},
   "outputs": [],
   "source": [
    "# 5-6: Stages of Life\n",
    "#  Write an if-elif-else chain that determines a person's stage of life. Set a value\n",
    "#  for the variable age, and then:\n",
    "\n",
    "# . If the person is less than 2 years old, print a message that the person is a baby.\n",
    "# . If the person is at least 2 years old but less than 4, print a message that the \n",
    "#   person is a toddler.\n",
    "# . If the person is at least 4 years old but less than 13, print a message that the \n",
    "#   person is a toddler.\n",
    "# . If the person is at least 13 years old but less than 20, print a message that the\n",
    "#   person is a toddler.\n",
    "# . If the person is at least 20 years old but less than 65, print a message that the\n",
    "#   person is a toddler.\n",
    "# . If the person is age 65 or older, print a message that the person is an elder.\n",
    "age = 17\n",
    "\n",
    "if age < 2:\n",
    "    print(\"You're a baby!\")\n",
    "elif age < 4:\n",
    "    print(\"You're a toddler!\")\n",
    "elif age < 13:\n",
    "    print(\"You're a kid!\")\n",
    "elif age < 20:\n",
    "    print(\"You're a teenager!\")\n",
    "elif age < 65:\n",
    "    print(\"You're an adult!\")\n",
    "else:\n",
    "    print(\"You're an elder!\")"
   ]
  },
  {
   "cell_type": "code",
   "execution_count": null,
   "metadata": {},
   "outputs": [],
   "source": [
    "# 5-7: Favorite Fruit\n",
    "# Make a list of your favorite fruits, and then write a series of independent \n",
    "# if statements that check for certain fruits in your list.\n",
    "\n",
    "# . Make a list of your three favorite fruits and call it favorite_fruits.\n",
    "# . Write five if statements. Each should check whether a certain kind of fruit \n",
    "#   is in your list. If the fruit is in your list, the if block should print a \n",
    "#   statement, such as You really like bananas!\n",
    "\n",
    "favorite_fruits = ['blueberries', 'salmonberries', 'peaches']\n",
    "\n",
    "if 'bananas' in favorite_fruits:\n",
    "    print(\"You really like bananas!\")\n",
    "if 'apples' in favorite_fruits:\n",
    "    print(\"You really like apples!\")\n",
    "if 'blueberries' in favorite_fruits:\n",
    "    print(\"You really like blueberries!\")\n",
    "if 'kiwis' in favorite_fruits:\n",
    "    print(\"You really like kiwis!\")\n",
    "if 'peaches' in favorite_fruits:\n",
    "    print(\"You really like peaches!\")  "
   ]
  },
  {
   "cell_type": "code",
   "execution_count": null,
   "metadata": {},
   "outputs": [],
   "source": [
    "# 5-8: Hello Admin\n",
    "# Make a list of five or more usernames, including the name 'admin'. \n",
    "# Imagine you are writing code that will print a greeting to each user \n",
    "# after they log in to a website. Loop through the list, and print a \n",
    "# greeting to each user.\n",
    "\n",
    "# . If the username is 'admin', print a special greeting, such as Hello admin,\n",
    "#   would you like to see a status report?\n",
    "# . Otherwise, print a generic greeting, such as Hello Jaden, thank you for \n",
    "#   loggin in again.\n",
    "usernames = ['eric', 'willie', 'admin', 'erin', 'ever']\n",
    "\n",
    "for username in usernames:\n",
    "    if username == 'admin':\n",
    "        print(\"Hello admin, would you like to see a status report?\")\n",
    "    else:\n",
    "        print(f\"Hello {username}, thank you for loggin in again!\")"
   ]
  },
  {
   "cell_type": "code",
   "execution_count": null,
   "metadata": {},
   "outputs": [],
   "source": [
    "# 5-9: No Users\n",
    "# Add an if test to hello_admin.py to make sure the list of users is not empty.\n",
    "\n",
    "# . If the list is emtpy, print the message We need to find some users!\n",
    "# . Remove all of the usernames from your list, and make sure the correct message \n",
    "#   is printed.\n",
    "usernames = []\n",
    "\n",
    "if usernames:\n",
    "    for username in usernames:\n",
    "        if username == 'admin':\n",
    "            print(\"Hello admin, would you like to see a status report?\")\n",
    "        else:\n",
    "            print(f\"Hello {username}, thank you for loggin in again!\")\n",
    "else:\n",
    "    print(\"We need to find some users!\")"
   ]
  },
  {
   "cell_type": "code",
   "execution_count": null,
   "metadata": {},
   "outputs": [],
   "source": [
    "# 5-10: Checking Usernames\n",
    "# Do the following to create a program that simulates how websites ensure that everyone\n",
    "# has a unique username.\n",
    "\n",
    "# . Make a list of five or more usernames called current_users. Make another list of five\n",
    "#   usernames called new_users. Make sure one or two of the new usernames are also in the\n",
    "#   current_users list.\n",
    "# . Loop through the new_users list to see if each new username has already been used. \n",
    "#   If it has, print a message that the person will need to enter a new username. If a\n",
    "#   username has not been used, print a message saying that the username is available.\n",
    "# . Make sure your comparison is case insensitive. If 'John' has been used, 'JOHN' should\n",
    "#   not be accepted. (To do this, you’ll need to make a copy of current_users containing \n",
    "#   the lowercase versions of all existing users.)\n",
    "current_users = ['eric', 'willie', 'admin', 'erin', 'Ever']\n",
    "new_users = ['sarah', 'Willie', 'PHIL', 'ever', 'Iona']\n",
    "\n",
    "current_users_lower = [user.lower() for user in current_users]\n",
    "\n",
    "for new_user in new_users:\n",
    "    if new_user.lower() in current_users_lower:\n",
    "        print(f\"Sorry {new_user}, that name is taken.\")\n",
    "    else:\n",
    "        print(f\"Great, {new_user} is still available.\")"
   ]
  },
  {
   "cell_type": "code",
   "execution_count": null,
   "metadata": {},
   "outputs": [],
   "source": [
    "# 5-11: Ordinal Numbers\n",
    "# Ordinal numbers indicate their position in a list, such as 1st or 2nd. Most ordinal\n",
    "# numbers end in th, except 1, 2, and 3.\n",
    "# . Store the numbers 1 through 9 in a list.\n",
    "# . Loop through the list.\n",
    "# . Use an if-elif-else chain inside the loop to print the proper ordinal ending for\n",
    "#   each number. Your output should read \"1st 2nd 3rd 4th 5th 6th 7th 8th 9th\", and \n",
    "#   each result should be on a separate line.\n",
    "numbers = list(range(1,10))\n",
    "\n",
    "for number in numbers:\n",
    "    if number == 1:\n",
    "        print(\"1st\")\n",
    "    elif number == 2:\n",
    "        print(\"2nd\")\n",
    "    elif number == 3:\n",
    "        print(\"3rd\")\n",
    "    else:\n",
    "        print(f\"{number}th\")"
   ]
  },
  {
   "cell_type": "markdown",
   "metadata": {},
   "source": [
    "#=========== E N D  O F  E X E R C I S E =================#"
   ]
  }
 ],
 "metadata": {
  "kernelspec": {
   "display_name": "py12",
   "language": "python",
   "name": "python3"
  },
  "language_info": {
   "codemirror_mode": {
    "name": "ipython",
    "version": 3
   },
   "file_extension": ".py",
   "mimetype": "text/x-python",
   "name": "python",
   "nbconvert_exporter": "python",
   "pygments_lexer": "ipython3",
   "version": "3.12.0"
  }
 },
 "nbformat": 4,
 "nbformat_minor": 2
}
