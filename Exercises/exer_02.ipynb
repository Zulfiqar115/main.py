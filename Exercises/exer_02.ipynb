{
 "cells": [
  {
   "cell_type": "markdown",
   "metadata": {},
   "source": [
    "\n",
    "**Execises - Solutions - Chapter 2**"
   ]
  },
  {
   "cell_type": "code",
   "execution_count": 8,
   "metadata": {},
   "outputs": [
    {
     "name": "stdout",
     "output_type": "stream",
     "text": [
      "I love learning to use Python,which is so intrested.\n"
     ]
    }
   ],
   "source": [
    "# 2.1 (Simple Message)\n",
    "# Assign a message to a variable, and then print that message.\n",
    "msg = \"I love learning to use Python,which is so intrested.\"\n",
    "print(msg)"
   ]
  },
  {
   "cell_type": "code",
   "execution_count": 9,
   "metadata": {},
   "outputs": [
    {
     "name": "stdout",
     "output_type": "stream",
     "text": [
      "I love learning to use Python.\n",
      "It's really very easy and satisfying!\n"
     ]
    }
   ],
   "source": [
    "# 2-2: Simple Messages\n",
    "# Assign a message to a variable, and print that message. \n",
    "# Then change the value of the variable to a new message, and print the new message.\n",
    "\n",
    "msg = \"I love learning to use Python.\"\n",
    "print(msg)\n",
    "\n",
    "msg = \"It's really very easy and satisfying!\"\n",
    "print(msg)"
   ]
  },
  {
   "cell_type": "code",
   "execution_count": 12,
   "metadata": {},
   "outputs": [
    {
     "name": "stdout",
     "output_type": "stream",
     "text": [
      "Hi Zulfiqar, would you like to learn modern Python type static today?\n"
     ]
    }
   ],
   "source": [
    "# # 2-3: Personal Message\n",
    "# Use a variable to represent a person’s name, and print a message to that person.\n",
    "# Your message should be simple, such as, “Hello zulfiqar, would you like to learn some \n",
    "# Python today?”\n",
    "\n",
    "name = \"zulfiqar\"\n",
    "msg = f\"Hi {name.title()}, would you like to learn modern Python type static today?\"\n",
    "\n",
    "print(msg)"
   ]
  },
  {
   "cell_type": "code",
   "execution_count": 13,
   "metadata": {},
   "outputs": [
    {
     "name": "stdout",
     "output_type": "stream",
     "text": [
      "zulfiqar\n",
      "ZULFIQAR\n",
      "Zulfiqar\n"
     ]
    }
   ],
   "source": [
    "# 2-4: Name Cases\n",
    "# Use a variable to represent a person’s name, and then print that\n",
    "# person’sname in lowercase, uppercase, and title case.\n",
    "name = \"zulfiqar\"\n",
    "print(name.lower())\n",
    "print(name.upper())\n",
    "print(name.title())\n"
   ]
  },
  {
   "cell_type": "code",
   "execution_count": 14,
   "metadata": {},
   "outputs": [
    {
     "name": "stdout",
     "output_type": "stream",
     "text": [
      "Albert Einstein once said, \"A person who never made a mistake\n",
      "never tried anything new.\"\n"
     ]
    }
   ],
   "source": [
    "# 2-5: Famous Quote\n",
    "# Find a quote from a famous person you admire. Print the quote and the name of its author.\n",
    "# Your output should look something like the following, including the quotation marks:\n",
    "# Albert Einstein once said,\n",
    "# \"A person who never made a mistake never tried anything new.\"\n",
    "\n",
    "print('Albert Einstein once said, \"A person who never made a mistake')\n",
    "print('never tried anything new.\"')\n"
   ]
  },
  {
   "cell_type": "code",
   "execution_count": 36,
   "metadata": {},
   "outputs": [
    {
     "name": "stdout",
     "output_type": "stream",
     "text": [
      "Albert Einstein once said, \"A person who never made a mistake never tried anything new.\"\n",
      "Albert Einstein once said, \"A person who never made a mistake never tried anything new.\"\n"
     ]
    }
   ],
   "source": [
    "# 2-6: Famous Quote 2\n",
    "# Repeat Exercise 2-5, but this time, represent the famous person’s \n",
    "# name using a variable called famous_person. Then compose your message\n",
    "# and represent it with a new variable called message. Print your message.\n",
    "famous_person = \"Albert Einstein\"\n",
    "message = f'{famous_person} once said, \"A person who never made a mistake never tried anything new.\"'\n",
    "print(message)\n",
    "#it can also be write as\n",
    "famous_person = \"Albert Einstein\"\n",
    "\n",
    "message = f'{famous_person} once said, \"A person who never made a mistake'\n",
    "message += ' never tried anything new.\"'\n",
    "\n",
    "print(message)"
   ]
  },
  {
   "cell_type": "code",
   "execution_count": 18,
   "metadata": {},
   "outputs": [
    {
     "name": "stdout",
     "output_type": "stream",
     "text": [
      "Unmodified:\n",
      "\tZulfiqar Mughal\n",
      "\n",
      "\n",
      "Using lstrip():\n",
      "Zulfiqar Mughal\n",
      "\n",
      "\n",
      "Using rstrip():\n",
      "\tZulfiqar Mughal\n",
      "\n",
      "Using strip():\n",
      "Zulfiqar Mughal\n"
     ]
    }
   ],
   "source": [
    "# 2-7: Stripping Names\n",
    "# Use a variable to represent a person's name, and include some whitespace characters at\n",
    "# the beginning and end of the name. Make sure you use each character combination,\n",
    "# \"\\t\" and \"\\n\", at least once.\n",
    "# Print the name once, so the whitespace around the name is displayed. Then print the name\n",
    "# using each of the three stripping functions, lstrip(), rstrip(), and strip().\n",
    "\n",
    "name = \"\\tZulfiqar Mughal\\n\"\n",
    "\n",
    "print(\"Unmodified:\")\n",
    "print(name)\n",
    "\n",
    "print(\"\\nUsing lstrip():\")\n",
    "print(name.lstrip())\n",
    "\n",
    "print(\"\\nUsing rstrip():\")\n",
    "print(name.rstrip())\n",
    "\n",
    "print(\"\\nUsing strip():\")\n",
    "print(name.strip())\n"
   ]
  },
  {
   "cell_type": "code",
   "execution_count": 20,
   "metadata": {},
   "outputs": [
    {
     "name": "stdout",
     "output_type": "stream",
     "text": [
      "python_notes\n"
     ]
    }
   ],
   "source": [
    "# 2-8: File Extensions\n",
    "# Python has a removesuffix() method that works exactly like removeprefix().\n",
    "# Assign the value 'python_notes.txt' to a variable called filename.\n",
    "# Then use the removesuffix() method to display the filename without the\n",
    "# file extension, like some file browsers do.\n",
    "filename = 'python_notes.txt'\n",
    "simple_filename = filename.removesuffix('.txt')\n",
    "\n",
    "print(simple_filename)"
   ]
  },
  {
   "cell_type": "code",
   "execution_count": 35,
   "metadata": {},
   "outputs": [
    {
     "name": "stdout",
     "output_type": "stream",
     "text": [
      "8\n",
      "8\n",
      "8\n",
      "8.0\n"
     ]
    }
   ],
   "source": [
    "#2-9 Number Eight\n",
    "# Write addition, subtraction, multiplication and division operaions \n",
    "# that each result in the number 8. Be sure to enclose your oprations\n",
    "# in print() calls to see the result.You should creat four lines that\n",
    "# look likes this : print (5+3).\n",
    "# your out puts shpuld be four lines, with the number 8 oppearing once\n",
    "# on each line\n",
    "# \n",
    "print(5+3)\n",
    "print(10-2)\n",
    "print(4*2)\n",
    "print(16/2)\n",
    "\n"
   ]
  },
  {
   "cell_type": "code",
   "execution_count": 21,
   "metadata": {},
   "outputs": [
    {
     "name": "stdout",
     "output_type": "stream",
     "text": [
      "My favorite number is 786.\n"
     ]
    }
   ],
   "source": [
    "# 2-10: Favorite Number\n",
    "# Use a variable to represent your favorite number. Then, using that variable,\n",
    "# create a message that reveals your favorite number. Print that message.\n",
    "\n",
    "fav_num = 786\n",
    "msg = f\"My favorite number is {fav_num}.\"\n",
    "\n",
    "print(msg)\n"
   ]
  },
  {
   "cell_type": "markdown",
   "metadata": {},
   "source": [
    "        **E N D  O F  E X E R C I S E  C H A P P T E R = 2**"
   ]
  }
 ],
 "metadata": {
  "kernelspec": {
   "display_name": "py12",
   "language": "python",
   "name": "python3"
  },
  "language_info": {
   "name": "python",
   "version": "3.12.0"
  }
 },
 "nbformat": 4,
 "nbformat_minor": 2
}
