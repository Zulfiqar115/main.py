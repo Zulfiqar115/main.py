{
 "cells": [
  {
   "cell_type": "code",
   "execution_count": null,
   "metadata": {},
   "outputs": [],
   "source": [
    "# 4-1: Pizzas\n",
    "# Think of at least three kinds of your favorite pizza. Store these pizza names\n",
    "# in a list, and then use a for loop to print the name of each pizza.\n",
    "\n",
    "#  . Modify your for loop to print a sentence using the name of the pizza, instead\n",
    "# of printing just the name of the pizza. For each pizza, you should have one \n",
    "# line of output containing a simple statement like I like pepperoni pizza.\n",
    "\n",
    "#  . Add a line at the end of your program, outside the for loop, that states how \n",
    "# much you like pizza. The output should consist of three or more lines about \n",
    "# the kinds of pizza you like and then an additional sentence, such as I really\n",
    "# love pizza!\n",
    "favorite_pizzas = ['pepperoni', 'hawaiian', 'veggie']\n",
    "\n",
    "# Print the names of all the pizzas.\n",
    "for pizza in favorite_pizzas:\n",
    "    print(pizza)\n",
    "\n",
    "print(\"\\n\")\n",
    "\n",
    "# Print a sentence about each pizza.\n",
    "for pizza in favorite_pizzas:\n",
    "    print(f\"I really love {pizza} pizza!\")\n",
    "\n",
    "print(\"\\nI really love pizza!\")"
   ]
  },
  {
   "cell_type": "code",
   "execution_count": null,
   "metadata": {},
   "outputs": [],
   "source": [
    "# 4-2: Animals\n",
    "# Think of at least three different animals that have a common characteristic. \n",
    "# Store the names of these animals in a list, and then use a for loop to print\n",
    "# out the name of each animal. - Modify your program to print a statement about\n",
    "# each animal, such as A dog would make a great pet. - Add a line at the end of\n",
    "# your program, stating what these animals have in common. You could print a \n",
    "# sentence, such as Any of these animals would make a great pet!\n",
    "animals = [\"spider monkey\", \"lemur\", \"giraffe\"]\n",
    "\n",
    "# Print each animal.\n",
    "for animal in animals:\n",
    "    print(animal)\n",
    "\n",
    "print(\"\\n\")\n",
    "\n",
    "# Print a statement about each animal.\n",
    "for animal in animals:\n",
    "    print(f\"A {animal} has a long tail.\")\n",
    "\n",
    "print(\"\\nAll of these animals have long tails.\") "
   ]
  }
 ],
 "metadata": {
  "language_info": {
   "name": "python"
  }
 },
 "nbformat": 4,
 "nbformat_minor": 2
}
