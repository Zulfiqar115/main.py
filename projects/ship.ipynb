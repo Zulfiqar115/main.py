{
 "cells": [
  {
   "cell_type": "code",
   "execution_count": null,
   "metadata": {},
   "outputs": [],
   "source": [
    "import pygame\n",
    "class Ship:\n",
    " \"\"\"A class to manage the ship.\"\"\"\n",
    " def __init__(self, ai_game):\n",
    "  \"\"\"Initialize the ship and set its starting position.\"\"\"\n",
    "  self.screen = ai_game.screen\n",
    "  self.screen_rect = ai_game.screen.get_rect()\n",
    " # Load the ship image and get its rect.\n",
    "  self.image = pygame.image.load('images/ship.bmp')\n",
    "  self.rect = self.image.get_rect()\n",
    " # Start each new ship at the bottom center of the screen.\n",
    "  self.rect.midbottom = self.screen_rect.midbottom\n",
    "def blitme(self):\n",
    " \"\"\"Draw the ship at its current location.\"\"\"\n",
    " self.screen.blit(self.image, self.rect)"
   ]
  }
 ],
 "metadata": {
  "kernelspec": {
   "display_name": "py12",
   "language": "python",
   "name": "python3"
  },
  "language_info": {
   "codemirror_mode": {
    "name": "ipython",
    "version": 3
   },
   "file_extension": ".py",
   "mimetype": "text/x-python",
   "name": "python",
   "nbconvert_exporter": "python",
   "pygments_lexer": "ipython3",
   "version": "3.12.0"
  }
 },
 "nbformat": 4,
 "nbformat_minor": 2
}
