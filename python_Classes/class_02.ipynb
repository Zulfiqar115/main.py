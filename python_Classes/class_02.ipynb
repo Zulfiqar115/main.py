{
 "cells": [
  {
   "cell_type": "code",
   "execution_count": null,
   "metadata": {},
   "outputs": [],
   "source": [
    "print(\"name\")"
   ]
  },
  {
   "cell_type": "code",
   "execution_count": null,
   "metadata": {},
   "outputs": [],
   "source": [
    "print(name)"
   ]
  },
  {
   "cell_type": "code",
   "execution_count": null,
   "metadata": {},
   "outputs": [],
   "source": [
    "name : str = \"Muhammad Qasim\"\n",
    "print(name)"
   ]
  },
  {
   "cell_type": "markdown",
   "metadata": {},
   "source": [
    "String Data type in python"
   ]
  },
  {
   "cell_type": "code",
   "execution_count": null,
   "metadata": {},
   "outputs": [],
   "source": [
    "# boundries\n",
    "# 'string text', \"string text \", '''string text''', \"\"\" string\"\"\"\n",
    "# `string text` type script\n",
    "\n",
    "name : str = \"Muhammad Qasim\"\n",
    "print(type(name))\n",
    "print(name)"
   ]
  },
  {
   "cell_type": "code",
   "execution_count": null,
   "metadata": {},
   "outputs": [],
   "source": [
    "# boundries\n",
    "# 'string text', \"string text \", '''string text''', \"\"\" string\"\"\"\n",
    "# `string text` type script\n",
    "\n",
    "name : str = 'Muhammad Qasim'\n",
    "print(type(name))\n",
    "print(name)"
   ]
  },
  {
   "cell_type": "code",
   "execution_count": null,
   "metadata": {},
   "outputs": [],
   "source": [
    "message : str = 'PIAIC Student Card \\n father's Name'\n",
    "print(message)"
   ]
  },
  {
   "cell_type": "code",
   "execution_count": null,
   "metadata": {},
   "outputs": [],
   "source": [
    "message : str = \"PIAIC Student Card \\n father's Name\"\n",
    "print(message)"
   ]
  },
  {
   "cell_type": "code",
   "execution_count": null,
   "metadata": {},
   "outputs": [],
   "source": [
    "# convert any special character into simple character, place \\ before character\n",
    "message : str = 'PIAIC Student Card \\n father\\'s Name'\n",
    "print(message)\n"
   ]
  },
  {
   "cell_type": "code",
   "execution_count": null,
   "metadata": {},
   "outputs": [],
   "source": [
    "\n",
    "message : str = \"PIAIC Student Card \\n father's Name\""
   ]
  },
  {
   "cell_type": "code",
   "execution_count": null,
   "metadata": {},
   "outputs": [],
   "source": [
    "\"a\" + \"b\" + \"c\""
   ]
  },
  {
   "cell_type": "code",
   "execution_count": null,
   "metadata": {},
   "outputs": [],
   "source": [
    "\"a\" + \"7\""
   ]
  },
  {
   "cell_type": "code",
   "execution_count": null,
   "metadata": {},
   "outputs": [],
   "source": [
    "# boundries\n",
    "# 'string text', \"string text \", '''string text''', \"\"\" string\"\"\"\n",
    "# `string text` type script\n",
    "\n",
    "name : str = 'Muhammad Qasim'\n",
    "fname : str = \"Muhammad Aslam\"\n",
    "education : str = \"Master in Data Science\"\n",
    "age : int = 30\n",
    "\n",
    "card : str = \"PIAIC Student Card\\nStudent Name: \" + name + \"\\nAge:\" + age\n",
    "\n",
    "print(card)"
   ]
  },
  {
   "cell_type": "code",
   "execution_count": null,
   "metadata": {},
   "outputs": [],
   "source": [
    "\"a\" + str(7)"
   ]
  },
  {
   "cell_type": "code",
   "execution_count": null,
   "metadata": {},
   "outputs": [],
   "source": [
    "# boundries\n",
    "# 'string text', \"string text \", '''string text''', \"\"\" string\"\"\"\n",
    "# `string text` type script\n",
    "\n",
    "name : str = 'Muhammad Qasim'\n",
    "fname : str = \"Muhammad Aslam\"\n",
    "education : str = \"Master in Data Science\"\n",
    "age : int = 30\n",
    "\n",
    "card : str = \"PIAIC Student Card\\nStudent Name: \" + name + \"\\nAge:\" + str(age)\n"
   ]
  },
  {
   "cell_type": "code",
   "execution_count": null,
   "metadata": {},
   "outputs": [],
   "source": [
    "print(7 + 8 + 2)"
   ]
  },
  {
   "cell_type": "markdown",
   "metadata": {},
   "source": [
    "\n",
    "\"\\\" line continue"
   ]
  },
  {
   "cell_type": "code",
   "execution_count": null,
   "metadata": {},
   "outputs": [],
   "source": [
    "print(7 + \\\n",
    "      8 + \\\n",
    "        2)"
   ]
  },
  {
   "cell_type": "code",
   "execution_count": null,
   "metadata": {},
   "outputs": [],
   "source": [
    "# boundries\n",
    "# 'string text', \"string text \", '''string text''', \"\"\" string\"\"\"\n",
    "# `string text` type script\n",
    "\n",
    "name : str = 'Muhammad Qasim'\n",
    "fname : str = \"Muhammad Aslam\"\n",
    "education : str = \"Master in Data Science\"\n",
    "age : int = 30\n",
    "\n",
    "card : str = \"PIAIC Student Card\\nStudent Name: \" + name +\\\n",
    "\"\\nAge:\" + str(age)+ \"\\n\"+\\\n",
    "\"Education: \" + education\n",
    "\n",
    "print(card)"
   ]
  },
  {
   "cell_type": "markdown",
   "metadata": {},
   "source": [
    "Define multiline string \"\"\" \"\"\", ''' '''"
   ]
  },
  {
   "cell_type": "code",
   "execution_count": null,
   "metadata": {},
   "outputs": [],
   "source": [
    "name : str = 'Muhammad Qasim'\n",
    "fname : str = \"Muhammad Aslam\"\n",
    "education : str = \"Master in Data Science\"\n",
    "age : int = 30\n",
    "\n",
    "\n",
    "card : str = \"\"\"\n",
    "PIAIC Student Card\n",
    "Student Name : \n",
    "Father's Name: \n",
    "Age: ......\n",
    "Education : .....\n",
    "\"\"\"\n",
    "\n",
    "print(card)"
   ]
  },
  {
   "cell_type": "markdown",
   "metadata": {},
   "source": [
    "F-string pthon"
   ]
  },
  {
   "cell_type": "code",
   "execution_count": null,
   "metadata": {},
   "outputs": [],
   "source": [
    "name : str = 'Muhammad Qasim'\n",
    "fname : str = \"Muhammad Aslam\"\n",
    "education : str = \"Master in Data Science\"\n",
    "age : int = 30\n",
    "\n",
    "\n",
    "card : str = f\"\"\"\n",
    "PIAIC Student Card\n",
    "Student Name : {name}\n",
    "Father's Name: {fname}\n",
    "Age: {age}\n",
    "Education : {education}\n",
    "\"\"\"\n",
    "\n",
    "print(card)"
   ]
  },
  {
   "cell_type": "code",
   "execution_count": null,
   "metadata": {},
   "outputs": [],
   "source": [
    "name : str = 'Muhammad Qasim'\n",
    "fname : str = \"Muhammad Aslam\"\n",
    "education : str = \"Master in Data Science\"\n",
    "age : int = 30\n",
    "\n",
    "\n",
    "card : str = f'''\n",
    "PIAIC Student Card\n",
    "Student Name : {name}\n",
    "Father's Name: {fname}\n",
    "Age: {age}\n",
    "Education : {education}\n",
    "'''\n",
    "\n",
    "print(card)"
   ]
  },
  {
   "cell_type": "code",
   "execution_count": null,
   "metadata": {},
   "outputs": [],
   "source": [
    "name : str = 'Muhammad Qasim'\n",
    "fname : str = \"Muhammad Aslam\"\n",
    "education : str = \"Master in Data Science\"\n",
    "age : int = 30\n",
    "\n",
    "\n",
    "# card : str = `\n",
    "# PIAIC Student Card\n",
    "# Student Name : {name}\n",
    "# Father's Name: {fname}\n",
    "# Age: {age}\n",
    "# Education : {education}\n",
    "# `\n",
    "\n",
    "# print(card)"
   ]
  },
  {
   "cell_type": "code",
   "execution_count": null,
   "metadata": {},
   "outputs": [],
   "source": [
    "name : str = 'Muhammad Qasim'\n",
    "fname : str = \"Muhammad Aslam\"\n",
    "education : str = \"Master in Data Science\"\n",
    "age : int = 30\n",
    "\n",
    "\n",
    "card : str = f\"\"\"\n",
    "PIAIC Student Card\n",
    "Student Name : {name}\n",
    "Father's Name: {fname}\n",
    "Age: {age}\n",
    "Education : {education}\n",
    "\n",
    "Total {2 + 8 + 9 + 3}\n",
    "\"\"\"\n",
    "\n",
    "print(card)\n"
   ]
  },
  {
   "cell_type": "markdown",
   "metadata": {},
   "source": [
    "F-string and Jinja style"
   ]
  },
  {
   "cell_type": "code",
   "execution_count": null,
   "metadata": {},
   "outputs": [],
   "source": [
    "f\"\"\"\n",
    "student name {name}\n",
    "\"\"\"\n"
   ]
  },
  {
   "cell_type": "code",
   "execution_count": null,
   "metadata": {},
   "outputs": [],
   "source": [
    "# Jinja Style\n",
    "\"\"\"\n",
    "student name {{name}}\n",
    "\"\"\""
   ]
  },
  {
   "cell_type": "code",
   "execution_count": null,
   "metadata": {},
   "outputs": [],
   "source": [
    "name : str = 'Muhammad Qasim'\n",
    "fname : str = \"Muhammad Aslam\"\n",
    "education : str = \"Master in Data Science\"\n",
    "age : int = 30\n",
    "\n",
    "\n",
    "card : str = f\"\"\"\n",
    "PIAIC Student Card\n",
    "Student Name : %s\n",
    "Father's Name: %s\n",
    "Age: %d\n",
    "Education : %s\n",
    "\n",
    "\"\"\" % (name, fname, age, education)\n",
    "\n",
    "print(card)\n"
   ]
  },
  {
   "cell_type": "code",
   "execution_count": null,
   "metadata": {},
   "outputs": [],
   "source": [
    "[i for i in dir(str) if \"__\" not in i]"
   ]
  },
  {
   "cell_type": "code",
   "execution_count": null,
   "metadata": {},
   "outputs": [],
   "source": [
    "a = 7\n",
    "b = 8\n",
    "# {} place holder\n",
    "#                   0                1          0 1\n",
    "\"pakistan value a = {} and value b = {}\".format(a,b)"
   ]
  },
  {
   "cell_type": "code",
   "execution_count": null,
   "metadata": {},
   "outputs": [],
   "source": [
    "# {} place holder\n",
    "#                   0                1          0 1\n",
    "\"pakistan value a = {} and value b = {}\".format(a,b)"
   ]
  },
  {
   "cell_type": "code",
   "execution_count": null,
   "metadata": {},
   "outputs": [],
   "source": [
    "name : str = \"MUhAMMad QaSiM\"\n",
    "\n",
    "print(name.capitalize())\n",
    "print(name.lower())"
   ]
  },
  {
   "cell_type": "code",
   "execution_count": null,
   "metadata": {},
   "outputs": [],
   "source": [
    "name : str = 'Muhammad Qasim'\n",
    "fname : str = \"Muhammad Aslam\"\n",
    "education : str = \"Master in Data Science\"\n",
    "age : int = 30\n",
    "\n",
    "\n",
    "card : str = f\"\"\"\n",
    "PIAIC Student Card\n",
    "Student Name : {name}\n",
    "Father's Name: {fname}\n",
    "Age: {age}\n",
    "Education : {education}\n",
    "\n",
    "Total {2 + 8 + 9 + 3}\n",
    "\"\"\"\n",
    "\n",
    "print(card)"
   ]
  },
  {
   "cell_type": "code",
   "execution_count": null,
   "metadata": {},
   "outputs": [],
   "source": [
    "name : str = 'Muhammad Qasim'\n",
    "fname : str = \"Muhammad Aslam\"\n",
    "education : str = \"Master in Data Science\"\n",
    "age : int = 30\n",
    "\n",
    "\n",
    "card : str = \"\"\"\n",
    "PIAIC Student Card\n",
    "Student Name : {}\n",
    "Father's Name: {}\n",
    "Age: {}\n",
    "Education : {}\n",
    "\"\"\".format(fname, name, education, age)\n",
    "\n",
    "print(card)\n"
   ]
  },
  {
   "cell_type": "code",
   "execution_count": null,
   "metadata": {},
   "outputs": [],
   "source": [
    "name : str = 'Muhammad Qasim'\n",
    "fname : str = \"Muhammad Aslam\"\n",
    "education : str = \"Master in Data Science\"\n",
    "age : int = 30\n",
    "\n",
    "\n",
    "card : str = \"\"\"\n",
    "PIAIC Student Card\n",
    "Student Name : {1}\n",
    "Father's Name: {0}\n",
    "Age: {3}\n",
    "Education : {2}\n",
    "\"\"\".format(fname, name, education, age)\n",
    "#           0      1       2        3\n",
    "\n",
    "print(card)"
   ]
  },
  {
   "cell_type": "code",
   "execution_count": null,
   "metadata": {},
   "outputs": [],
   "source": [
    "name : str = 'Muhammad Qasim'\n",
    "fname : str = \"Muhammad Aslam\"\n",
    "education : str = \"Master in Data Science\"\n",
    "age : int = 30\n",
    "\n",
    "\n",
    "card : str = \"\"\"\n",
    "PIAIC Student Card\n",
    "Student Name : {a}\n",
    "Father's Name: {b}\n",
    "Age: {c}\n",
    "Education : {d}\n",
    "\"\"\".format(a=name, b=fname, c=age, d=education)\n",
    "\n",
    "\n",
    "print(card)"
   ]
  },
  {
   "cell_type": "markdown",
   "metadata": {},
   "source": [
    "Recommended below two f-string format"
   ]
  },
  {
   "cell_type": "code",
   "execution_count": null,
   "metadata": {},
   "outputs": [],
   "source": [
    "name : str = 'Muhammad Qasim'\n",
    "fname : str = \"Muhammad Aslam\"\n",
    "education : str = \"Master in Data Science\"\n",
    "age : int = 30\n",
    "\n",
    "\n",
    "card : str = f\"\"\"\n",
    "PIAIC Student Card\n",
    "Student Name : {name}\n",
    "Father's Name: {fname}\n",
    "Age: {age}\n",
    "Education : {education}\n",
    "\"\"\"\n",
    "\n",
    "print(card)"
   ]
  },
  {
   "cell_type": "code",
   "execution_count": null,
   "metadata": {},
   "outputs": [],
   "source": [
    "student_code : str = \"\"\"\n",
    "print(\"My Name is Muhammad Qasim\")\n",
    "a:int = 7\n",
    "b:int = 8\n",
    "print(a + b)\n",
    "\"\"\"\n",
    "\n",
    "exec(student_code)"
   ]
  },
  {
   "cell_type": "markdown",
   "metadata": {},
   "source": [
    "Explore String methods and attributes\n",
    "pre-define global function we have used\n",
    "\n",
    "print\n",
    "type\n",
    "id\n",
    "dir\n",
    "len"
   ]
  },
  {
   "cell_type": "code",
   "execution_count": null,
   "metadata": {},
   "outputs": [],
   "source": [
    "a: list[str] = [i for i in dir(str) if \"__\" not in i]\n",
    "print(a)\n",
    "print(len(a))"
   ]
  },
  {
   "cell_type": "code",
   "execution_count": null,
   "metadata": {},
   "outputs": [],
   "source": [
    "ame : str = \"MuHammAd QasIm\"\n",
    "\n",
    "#variable_name.method()\n",
    "print(name.capitalize())"
   ]
  },
  {
   "cell_type": "code",
   "execution_count": null,
   "metadata": {},
   "outputs": [],
   "source": [
    "name : str = \"MuHammAd QasIm\"\n",
    "\n",
    "#variable_name.method()\n",
    "print(name)\n",
    "print(name.casefold())"
   ]
  },
  {
   "cell_type": "code",
   "execution_count": null,
   "metadata": {},
   "outputs": [],
   "source": [
    "name : str = \"MuHammAd QasIm\"\n",
    "\n",
    "#variable_name.method()\n",
    "print(name)\n",
    "print(name.lower())"
   ]
  },
  {
   "cell_type": "code",
   "execution_count": null,
   "metadata": {},
   "outputs": [],
   "source": [
    "name : str = \"      MuHammAd QasIm         \"\n",
    "\n",
    "#variable_name.method()\n",
    "display(name)\n",
    "display(name.lstrip())"
   ]
  },
  {
   "cell_type": "code",
   "execution_count": null,
   "metadata": {},
   "outputs": [],
   "source": [
    "name : str = \"      MuHammAd QasIm         \"\n",
    "\n",
    "#variable_name.method()\n",
    "display(name)\n",
    "display(name.rstrip())"
   ]
  },
  {
   "cell_type": "code",
   "execution_count": null,
   "metadata": {},
   "outputs": [],
   "source": [
    "name : str = \"      MuHammAd QasIm         \"\n",
    "\n",
    "#variable_name.method()\n",
    "display(name)\n",
    "display(name.strip())"
   ]
  },
  {
   "cell_type": "code",
   "execution_count": null,
   "metadata": {},
   "outputs": [],
   "source": [
    "name : str = \"      MuHammAd       QasIm         \"\n",
    "\n",
    "#variable_name.method()\n",
    "display(name)\n",
    "display(name.strip())"
   ]
  },
  {
   "cell_type": "code",
   "execution_count": null,
   "metadata": {},
   "outputs": [],
   "source": [
    "import re\n",
    "\n",
    "name : str = \"      MuHammAd           QasIm         \"\n",
    "\n",
    "display(name)\n",
    "\n",
    "name1 : str = re.sub(' {2,100}',' ', name).strip()\n",
    "display(name1)"
   ]
  },
  {
   "cell_type": "code",
   "execution_count": null,
   "metadata": {},
   "outputs": [],
   "source": [
    "name : str = \"MuHammAd QasIm\"\n",
    "\n",
    "#variable_name.method()\n",
    "display(name)\n",
    "display(name.title())"
   ]
  },
  {
   "cell_type": "code",
   "execution_count": null,
   "metadata": {},
   "outputs": [],
   "source": [
    "name:str = \"Ada Lovelace\"\n",
    "print(name.upper())\n",
    "print(name.lower())"
   ]
  },
  {
   "cell_type": "code",
   "execution_count": null,
   "metadata": {},
   "outputs": [],
   "source": [
    "\\n\n",
    "\\t\n",
    "\\b"
   ]
  },
  {
   "cell_type": "code",
   "execution_count": null,
   "metadata": {},
   "outputs": [],
   "source": [
    "print(\"Name:\\t\\t Muhammad Qasim\")"
   ]
  },
  {
   "cell_type": "code",
   "execution_count": null,
   "metadata": {},
   "outputs": [],
   "source": [
    "print(\"Name:\\nMuhammad Qasim\")"
   ]
  },
  {
   "cell_type": "code",
   "execution_count": null,
   "metadata": {},
   "outputs": [],
   "source": [
    "print(\"Name:\\bMuhammad Qasim\")"
   ]
  },
  {
   "cell_type": "code",
   "execution_count": null,
   "metadata": {},
   "outputs": [],
   "source": [
    "nostarch_url:str = 'https://nostarch.com'\n",
    "nostarch_url.removeprefix('https://')"
   ]
  },
  {
   "cell_type": "code",
   "execution_count": null,
   "metadata": {},
   "outputs": [],
   "source": [
    "1name : str = \"Qasim\"\n",
    "print(1name)"
   ]
  },
  {
   "cell_type": "code",
   "execution_count": null,
   "metadata": {},
   "outputs": [],
   "source": [
    "_1name : str = \"Qasim\"\n",
    "print(_1name)"
   ]
  },
  {
   "cell_type": "code",
   "execution_count": null,
   "metadata": {},
   "outputs": [],
   "source": [
    "piaic student name : str = \"Muhammad Qasim\"\n",
    "print(piaic student name)"
   ]
  },
  {
   "cell_type": "code",
   "execution_count": null,
   "metadata": {},
   "outputs": [],
   "source": [
    "piaic_student_name : str = \"Muhammad Qasim\"\n",
    "print(piaic_student_name)"
   ]
  },
  {
   "cell_type": "code",
   "execution_count": null,
   "metadata": {},
   "outputs": [],
   "source": []
  }
 ],
 "metadata": {
  "language_info": {
   "name": "python"
  }
 },
 "nbformat": 4,
 "nbformat_minor": 2
}
